{
 "cells": [
  {
   "cell_type": "code",
   "execution_count": 1,
   "metadata": {
    "tags": []
   },
   "outputs": [],
   "source": [
    "import pandas as pd\n",
    "from sklearn.feature_extraction.text import CountVectorizer\n",
    "from sklearn.metrics.pairwise import cosine_similarity"
   ]
  },
  {
   "cell_type": "code",
   "execution_count": 2,
   "metadata": {
    "tags": []
   },
   "outputs": [],
   "source": [
    "movies_df = pd.read_csv('movies.csv')"
   ]
  },
  {
   "cell_type": "code",
   "execution_count": 3,
   "metadata": {
    "tags": []
   },
   "outputs": [
    {
     "name": "stderr",
     "output_type": "stream",
     "text": [
      "c:\\Users\\Krish\\anaconda3\\lib\\site-packages\\sklearn\\feature_extraction\\text.py:528: UserWarning: The parameter 'token_pattern' will not be used since 'tokenizer' is not None'\n",
      "  warnings.warn(\n"
     ]
    }
   ],
   "source": [
    "vectorizer = CountVectorizer(tokenizer=lambda x: x.split(','))\n",
    "genres_matrix = vectorizer.fit_transform(movies_df['genres'])\n"
   ]
  },
  {
   "cell_type": "code",
   "execution_count": 4,
   "metadata": {
    "tags": []
   },
   "outputs": [],
   "source": [
    "cosine_sim = cosine_similarity(genres_matrix, genres_matrix)"
   ]
  },
  {
   "cell_type": "code",
   "execution_count": 13,
   "metadata": {
    "tags": []
   },
   "outputs": [],
   "source": [
    "def recommend_movies_by_genres(genres, exclude_genres=[], include_genres=[], cosine_sim=cosine_sim, n=10):\n",
    "    \n",
    "    genres_vector = vectorizer.transform([genres])\n",
    "\n",
    "    sim_scores = cosine_similarity(genres_vector, genres_matrix).flatten()\n",
    "    # exclude\n",
    "    for exclude_genre in exclude_genres:\n",
    "        exclude_indices = [i for i, genre in enumerate(movies_df['genres']) if exclude_genre in genre]\n",
    "        sim_scores[exclude_indices] = -1  #  -1 for excluded \n",
    "\n",
    "    #included genres\n",
    "    for include_genre in include_genres:\n",
    "        include_indices = [i for i, genre in enumerate(movies_df['genres']) if include_genre in genre]\n",
    "        sim_scores[include_indices] *= 2  # Increase for included\n",
    "\n",
    "    movie_indices = sim_scores.argsort()[::-1][:n]\n",
    "\n",
    "    return movies_df.iloc[movie_indices]['title']\n"
   ]
  },
  {
   "cell_type": "code",
   "execution_count": 14,
   "metadata": {
    "tags": []
   },
   "outputs": [
    {
     "name": "stdout",
     "output_type": "stream",
     "text": [
      "5864                                     It's Alive (1974)\n",
      "1544        Friday the 13th Part V: A New Beginning (1985)\n",
      "10193                                  Crimson Peak (2015)\n",
      "1017                                   Shining, The (1980)\n",
      "1545           Friday the 13th Part VI: Jason Lives (1986)\n",
      "1546        Friday the 13th Part VII: The New Blood (1988)\n",
      "1547     Friday the 13th Part VIII: Jason Takes Manhatt...\n",
      "3780                                     Death Ship (1980)\n",
      "192                                    Castle Freak (1995)\n",
      "1548                                      Halloween (1978)\n",
      "Name: title, dtype: object\n"
     ]
    }
   ],
   "source": [
    "# Example\n",
    "genres_input = 'Horror'\n",
    "exclude_genres = ['Comedy']\n",
    "include_genres = ['Horror']\n",
    "recommendations = recommend_movies_by_genres(genres_input, exclude_genres=exclude_genres, include_genres=include_genres)\n",
    "print(recommendations)"
   ]
  },
  {
   "cell_type": "code",
   "execution_count": null,
   "metadata": {},
   "outputs": [],
   "source": []
  }
 ],
 "metadata": {
  "kernelspec": {
   "display_name": "Python 3 (ipykernel)",
   "language": "python",
   "name": "python3"
  },
  "language_info": {
   "codemirror_mode": {
    "name": "ipython",
    "version": 3
   },
   "file_extension": ".py",
   "mimetype": "text/x-python",
   "name": "python",
   "nbconvert_exporter": "python",
   "pygments_lexer": "ipython3",
   "version": "3.11.5"
  }
 },
 "nbformat": 4,
 "nbformat_minor": 4
}
